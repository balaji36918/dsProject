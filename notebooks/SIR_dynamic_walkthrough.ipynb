{
 "cells": [
  {
   "cell_type": "markdown",
   "metadata": {
    "pycharm": {
     "name": "#%%\n"
    }
   },
   "source": [
    "# Dynamic SIR for multi countries"
   ]
  },
  {
   "cell_type": "markdown",
   "metadata": {},
   "source": [
    "# Prepare the data"
   ]
  },
  {
   "cell_type": "code",
   "execution_count": null,
   "metadata": {},
   "outputs": [],
   "source": [
    "## check some parameters\n",
    "import os\n",
    "if os.path.split(os.getcwd())[-1]=='/notebooks':\n",
    "    os.chdir(\"../\")\n",
    "\n",
    "'Your base path is at: '+os.path.split(os.getcwd())[-1]"
   ]
  },
  {
   "cell_type": "code",
   "execution_count": null,
   "metadata": {
    "pycharm": {
     "name": "#%%\n"
    }
   },
   "outputs": [],
   "source": [
    "# import pandas as pd\n",
    "import os\n",
    "import numpy as np\n",
    "from datetime import datetime\n",
    "import pandas as pd\n",
    "from scipy import optimize\n",
    "from scipy import integrate\n",
    "%matplotlib inline\n",
    "import matplotlib as mpl\n",
    "import matplotlib.pyplot as plt\n",
    "import seaborn as sns\n",
    "sns.set(style=\"darkgrid\")\n",
    "\n",
    "mpl.rcParams['figure.figsize'] = (16, 9)\n",
    "pd.set_option('display.max_rows', 10)\n",
    "\n",
    "def store_flat_table_JH_data():\n",
    "    \n",
    "    data_path='../data/raw/COVID-19/csse_covid_19_data/csse_covid_19_time_series/time_series_covid19_confirmed_global.csv'\n",
    "    pd_raw=pd.read_csv(data_path)\n",
    "    time_idx = pd_raw.columns[4:]\n",
    "    df_plot = pd.DataFrame({'date':time_idx})\n",
    "    country_list=['Germany','India', 'US', 'Austria', 'France'] \n",
    "    for each in country_list:\n",
    "        df_plot[each]=np.array(pd_raw[pd_raw['Country/Region']==each].iloc[:,4::].sum(axis=0))\n",
    "    time_idx=[datetime.strptime( each,\"%m/%d/%y\") for each in df_plot.date] # convert to datetime\n",
    "    time_str=[each.strftime('%Y-%m-%d') for each in time_idx] # convert back to date ISO norm (str)\n",
    "    df_plot['date']=time_idx\n",
    "    df_plot.to_csv('../data/processed/COVID_small_flat_table.csv',sep=';',index=False)\n",
    "    df_plot.tail()\n",
    "    \n",
    "if __name__ == '__main__':\n",
    "    store_flat_table_JH_data()"
   ]
  },
  {
   "cell_type": "markdown",
   "metadata": {},
   "source": [
    "# Process the data"
   ]
  },
  {
   "cell_type": "code",
   "execution_count": null,
   "metadata": {
    "pycharm": {
     "name": "#%%\n"
    }
   },
   "outputs": [],
   "source": [
    "def main():\n",
    "    \n",
    "    def SIR_model_t(SIR,t,beta,gamma):\n",
    "        S,I,R = SIR\n",
    "        dS_dt = -beta*S*I/N0\n",
    "        dI_dt = beta*S*I/N0-gamma*I\n",
    "        dR_dt = gamma*I\n",
    "        return dS_dt,dI_dt,dR_dt\n",
    "\n",
    "\n",
    "    def data_slice(data,con):\n",
    "        ydata = np.array(data[con])\n",
    "        t = np.arange(len(ydata))\n",
    "        return ydata, t\n",
    "\n",
    "    def fit_odeint(x, beta, gamma):\n",
    "\n",
    "        '''\n",
    "        function for fitting\n",
    "        '''\n",
    "        I0 = ydata[0]\n",
    "        S0 =N0 - I0\n",
    "        R0=0\n",
    "        return integrate.odeint(SIR_model_t, (S0, I0, R0), t, args=(beta, gamma))[:,1] # we only would like to get dI\n",
    "\n",
    "    #def cal_pmts():\n",
    "    df_analyse=pd.read_csv('../data/processed/COVID_small_flat_table.csv',sep=';')\n",
    "    df_analyse=df_analyse.sort_values('date',ascending=True)\n",
    "    df_analyse=df_analyse[35:140:]\n",
    "    df_analyse= df_analyse.reset_index().drop([\"index\"], axis=1)\n",
    "    N0 =10000000\n",
    "    popt=[0.3,0.1]\n",
    "    country_list= df_analyse.columns[1:]\n",
    "    for each in country_list:\n",
    "        ydata, t = data_slice(df_analyse,each)\n",
    "        fit_odeint(t, *popt)\n",
    "        popt2, pcov = optimize.curve_fit(fit_odeint, t, ydata, maxfev=1000)\n",
    "        perr = np.sqrt(np.diag(pcov))\n",
    "        print(\"For {}:\".format(each))\n",
    "        print('standard deviation errors : ', str(perr), ' start infect:', ydata[0])\n",
    "        print(\"Optimal parameters: beta =\", popt2[0], \" and gamma = \", popt2[1])\n",
    "        fitted=fit_odeint(t, *popt)\n",
    "        df_analyse[each+\"_fit\"]= pd.DataFrame(fitted)\n",
    "\n",
    "    df_analyse= df_analyse.reset_index()\n",
    "    print(df_analyse.tail())\n",
    "    df_analyse.to_csv('../data/processed/COVID_SIR_final_set.csv',sep=';',index=False)\n",
    "\n",
    "if __name__ == '__main__':\n",
    "    main()\n"
   ]
  },
  {
   "cell_type": "code",
   "execution_count": null,
   "metadata": {},
   "outputs": [],
   "source": [
    "df_analyse=pd.read_csv('../data/processed/COVID_SIR_final_set.csv',sep=';')\n",
    "df_analyse.tail()"
   ]
  },
  {
   "cell_type": "markdown",
   "metadata": {},
   "source": [
    "# Visualize the result"
   ]
  },
  {
   "cell_type": "code",
   "execution_count": null,
   "metadata": {
    "pycharm": {
     "is_executing": true,
     "name": "#%%\n"
    }
   },
   "outputs": [],
   "source": [
    "import pandas as pd\n",
    "import numpy as np\n",
    "\n",
    "import dash\n",
    "dash.__version__\n",
    "import dash_core_components as dcc\n",
    "import dash_html_components as html\n",
    "from dash.dependencies import Input, Output,State\n",
    "\n",
    "import plotly.graph_objects as go\n",
    "import random\n",
    "import os\n",
    "\n",
    "color_list = []\n",
    "for i in range(200):\n",
    "    var = '#%03x%03x%03x%03x%03x'%(random.randint(0,255),random.randint(0,255),random.randint(0,255),random.randint(0, 255),random.randint(0,255))\n",
    "    color_list.append(var)\n",
    "\n",
    "df_analyse=pd.read_csv('../data/processed/COVID_SIR_final_set.csv',sep=';')\n",
    "\n",
    "\n",
    "fig = go.Figure()\n",
    "\n",
    "app = dash.Dash()\n",
    "app.layout = html.Div([\n",
    "\n",
    "    dcc.Markdown('''\n",
    "    #  Applied Data Science on COVID-19 data\n",
    "\n",
    "    Goal of the project is to learn data science by applying a cross industry standard process,\n",
    "    it covers the full walkthrough of: automated data gathering, data transformations,\n",
    "    filtering and machine learning to approximating the doubling time, and\n",
    "    (static) deployment of responsive dashboard.\n",
    "\n",
    "    '''),\n",
    "\n",
    "    dcc.Markdown('''\n",
    "    ## Multi-Select Country for SIR visualization\n",
    "    '''),\n",
    "\n",
    "\n",
    "    dcc.Dropdown(\n",
    "        id='country_drop_down',\n",
    "        options=[ {'label': each,'value':each} for each in df_analyse.columns[2:7]],\n",
    "        value=['India'], # which are pre-selected\n",
    "        multi=True\n",
    "    ),\n",
    "\n",
    "    dcc.Graph(figure=fig, id='main_window_slope')\n",
    "])\n",
    "\n",
    "\n",
    "\n",
    "@app.callback(\n",
    "    Output('main_window_slope', 'figure'),\n",
    "    [Input('country_drop_down', 'value')])\n",
    "\n",
    "\n",
    "def update_figure(country_list):\n",
    "\n",
    "\n",
    "    v=0\n",
    "    my_yaxis={'type':\"log\",\n",
    "              'title':'New Population Infected'\n",
    "          }\n",
    "\n",
    "\n",
    "    traces = []\n",
    "    for each in country_list:\n",
    "\n",
    "        traces.append(dict(x=df_analyse.index,\n",
    "                                y=df_analyse[each],\n",
    "                                mode='markers', markers = dict(color= color_list[v]),\n",
    "                                opacity=0.9,\n",
    "                                name=each\n",
    "                        )\n",
    "                )\n",
    "        traces.append(dict(x=df_analyse.index,\n",
    "                        y=df_analyse[each+\"_fit\"],\n",
    "                        mode='lines',line = dict(color=color_list[v]), opacity=1.0,name=each+'_Fit'))\n",
    "        v= v+1\n",
    "\n",
    "    return {\n",
    "            'data': traces,\n",
    "            'layout': dict (\n",
    "                width=1280,\n",
    "                height=720,\n",
    "\n",
    "                xaxis={'title':'Timeline',\n",
    "                        'tickangle':-45,\n",
    "                        'nticks':20,\n",
    "                        'tickfont':dict(size=14,color=\"#444\"),\n",
    "                      },\n",
    "\n",
    "                yaxis=my_yaxis\n",
    "        )\n",
    "    }\n",
    "\n",
    "app.run_server(host=os.getenv('IP', '0.0.0.0'), \n",
    "            port=int(os.getenv('PORT', 4444)),debug = True, use_reloader = False)"
   ]
  },
  {
   "cell_type": "code",
   "execution_count": null,
   "metadata": {},
   "outputs": [],
   "source": []
  }
 ],
 "metadata": {
  "kernelspec": {
   "display_name": "Python 3 (ipykernel)",
   "language": "python",
   "name": "python3"
  },
  "language_info": {
   "codemirror_mode": {
    "name": "ipython",
    "version": 3
   },
   "file_extension": ".py",
   "mimetype": "text/x-python",
   "name": "python",
   "nbconvert_exporter": "python",
   "pygments_lexer": "ipython3",
   "version": "3.9.12"
  }
 },
 "nbformat": 4,
 "nbformat_minor": 1
}
